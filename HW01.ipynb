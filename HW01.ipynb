{
 "cells": [
  {
   "cell_type": "code",
   "execution_count": 2,
   "metadata": {},
   "outputs": [],
   "source": [
    "# (1) Data types\n",
    "# What kind of data types are there? \n",
    "# There are strings, integers, float precision numbers\n",
    "# Python infers the data types from what you have written\n",
    "\n",
    "# Let's say we have the following 4 variables\n",
    "# x is an integer, y is a character, z is float, w is string\n",
    "\n",
    "x = 3\n",
    "y = \"a\"\n",
    "z = 3.14\n",
    "w = \"hello\""
   ]
  },
  {
   "cell_type": "code",
   "execution_count": 3,
   "metadata": {},
   "outputs": [
    {
     "ename": "TypeError",
     "evalue": "unsupported operand type(s) for +: 'int' and 'str'",
     "output_type": "error",
     "traceback": [
      "\u001b[0;31m---------------------------------------------------------------------------\u001b[0m",
      "\u001b[0;31mTypeError\u001b[0m                                 Traceback (most recent call last)",
      "\u001b[0;32m<ipython-input-3-353ef0e6aa95>\u001b[0m in \u001b[0;36m<module>\u001b[0;34m()\u001b[0m\n\u001b[1;32m      1\u001b[0m \u001b[0;31m# Q1.1 What happens if you add x and y?\u001b[0m\u001b[0;34m\u001b[0m\u001b[0;34m\u001b[0m\u001b[0m\n\u001b[1;32m      2\u001b[0m \u001b[0;31m# Run the following command and answer as comment\u001b[0m\u001b[0;34m\u001b[0m\u001b[0;34m\u001b[0m\u001b[0m\n\u001b[0;32m----> 3\u001b[0;31m \u001b[0mprint\u001b[0m\u001b[0;34m(\u001b[0m\u001b[0;34m\"x + y = \"\u001b[0m\u001b[0;34m,\u001b[0m \u001b[0mx\u001b[0m \u001b[0;34m+\u001b[0m \u001b[0my\u001b[0m\u001b[0;34m)\u001b[0m\u001b[0;34m\u001b[0m\u001b[0m\n\u001b[0m",
      "\u001b[0;31mTypeError\u001b[0m: unsupported operand type(s) for +: 'int' and 'str'"
     ]
    }
   ],
   "source": [
    "# Q1.1 What happens if you add x and y?\n",
    "# Run the following command and answer as comment\n",
    "print(\"x + y = \", x + y)    # there is error because data type is not matched"
   ]
  },
  {
   "cell_type": "code",
   "execution_count": 6,
   "metadata": {},
   "outputs": [
    {
     "name": "stdout",
     "output_type": "stream",
     "text": [
      "x + z =  6.140000000000001 <class 'float'>\n"
     ]
    }
   ],
   "source": [
    "# Q1.2 What happens if you add x and z? What type is the answer?\n",
    "# Run the following command and answer as comment\n",
    "print(\"x + z = \", x + z, type(x+z))    # changed as float "
   ]
  },
  {
   "cell_type": "code",
   "execution_count": 7,
   "metadata": {},
   "outputs": [
    {
     "name": "stdout",
     "output_type": "stream",
     "text": [
      "The type of x is: <class 'int'>\n",
      "The type of y is: <class 'str'>\n",
      "The type of z is: <class 'float'>\n",
      "The type of w is: <class 'str'>\n"
     ]
    }
   ],
   "source": [
    "# To check the type of data you are using, you can use this: type()\n",
    "print(\"The type of x is:\", type(x))\n",
    "print(\"The type of y is:\", type(y))\n",
    "print(\"The type of z is:\", type(z))\n",
    "print(\"The type of w is:\", type(w))"
   ]
  },
  {
   "cell_type": "code",
   "execution_count": 8,
   "metadata": {},
   "outputs": [
    {
     "name": "stdout",
     "output_type": "stream",
     "text": [
      "If I cast a float z to integer, it becomes:  3\n"
     ]
    }
   ],
   "source": [
    "# What if you want x + z to be an integer instead of float? i.e. 6 instead of 6.14000000\n",
    "# You use the concept of \"cast.\" You \"cast\" a type of something to be some other type\n",
    "print(\"If I cast a float z to integer, it becomes: \", int(z))"
   ]
  },
  {
   "cell_type": "code",
   "execution_count": 10,
   "metadata": {},
   "outputs": [],
   "source": [
    "# (2) Operations\n",
    "# There are 8 main arithmetic operators in python:\n",
    "# a + b(addition), a - b(subtraction), -a(negation), a * b(multiplication), a / b(division), \n",
    "# a // b(floor division), a % b(modulus), a ** b(exponentiation)\n",
    "# First 5 are trivial, so let me illustrate the other 3\n",
    "\n",
    "a = 5 \n",
    "b = 3"
   ]
  },
  {
   "cell_type": "code",
   "execution_count": 12,
   "metadata": {},
   "outputs": [
    {
     "name": "stdout",
     "output_type": "stream",
     "text": [
      "1.6666666666666667 <class 'float'> 1 <class 'int'>\n"
     ]
    }
   ],
   "source": [
    "# Q2.1 What is the difference between a/b and a//b ?\n",
    "# Write the answer using print function(refer to the examples above)\n",
    "print(a/b, type(a/b), a//b, type(a//b)) # a/b executes as float, but a//b executes as int"
   ]
  },
  {
   "cell_type": "code",
   "execution_count": 13,
   "metadata": {},
   "outputs": [
    {
     "name": "stdout",
     "output_type": "stream",
     "text": [
      "2\n"
     ]
    }
   ],
   "source": [
    "# Q2.2 How to get the remainder of 8 divided by 3? 8 = 3 * 2 + 2 so the remainder is 2\n",
    "# Use modulus to find the remainder and print the remainder using print function \n",
    "# You may search python documentation to do this\n",
    "print(8%3)"
   ]
  },
  {
   "cell_type": "code",
   "execution_count": 14,
   "metadata": {},
   "outputs": [
    {
     "name": "stdout",
     "output_type": "stream",
     "text": [
      "125\n"
     ]
    }
   ],
   "source": [
    "# Q2.3 Express 5 raised to 3rd power using exponentiation and print the answer using print function\n",
    "# You may search python documentation to do this\n",
    "print(5**3)"
   ]
  },
  {
   "cell_type": "code",
   "execution_count": null,
   "metadata": {},
   "outputs": [],
   "source": []
  }
 ],
 "metadata": {
  "kernelspec": {
   "display_name": "Python 3",
   "language": "python",
   "name": "python3"
  },
  "language_info": {
   "codemirror_mode": {
    "name": "ipython",
    "version": 3
   },
   "file_extension": ".py",
   "mimetype": "text/x-python",
   "name": "python",
   "nbconvert_exporter": "python",
   "pygments_lexer": "ipython3",
   "version": "3.6.5"
  }
 },
 "nbformat": 4,
 "nbformat_minor": 2
}
